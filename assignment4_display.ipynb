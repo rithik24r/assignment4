{
  "nbformat": 4,
  "nbformat_minor": 0,
  "metadata": {
    "colab": {
      "name": "Untitled5.ipynb",
      "provenance": [],
      "collapsed_sections": []
    },
    "kernelspec": {
      "name": "python3",
      "display_name": "Python 3"
    }
  },
  "cells": [
    {
      "cell_type": "code",
      "metadata": {
        "id": "ifQihOh4be3R",
        "colab_type": "code",
        "colab": {
          "base_uri": "https://localhost:8080/",
          "height": 35
        },
        "outputId": "fc0c10ed-ca5f-433c-a46a-1d03e07e1f92"
      },
      "source": [
        "f=open(\"test.txt\",\"w\")\n",
        "s=f.write(\"good morning\")\n",
        "print(s)\n"
      ],
      "execution_count": null,
      "outputs": [
        {
          "output_type": "stream",
          "text": [
            "12\n"
          ],
          "name": "stdout"
        }
      ]
    },
    {
      "cell_type": "code",
      "metadata": {
        "id": "KznCgtbMmlVE",
        "colab_type": "code",
        "colab": {
          "base_uri": "https://localhost:8080/",
          "height": 35
        },
        "outputId": "acf8ee2b-c75b-4385-87df-f49b6b73ddc5"
      },
      "source": [
        "def file_read(fname):\n",
        "            from itertools import islice\n",
        "            with open(fname,\"w\") as myfile:\n",
        "                                             myfile.write(\"python exercise\")\n",
        "            txt=open(fname)\n",
        "            print(txt.read())\n",
        "file_read('test.txt')"
      ],
      "execution_count": 23,
      "outputs": [
        {
          "output_type": "stream",
          "text": [
            "python exercise\n"
          ],
          "name": "stdout"
        }
      ]
    },
    {
      "cell_type": "code",
      "metadata": {
        "id": "lGQ0P5EZqlHI",
        "colab_type": "code",
        "colab": {
          "base_uri": "https://localhost:8080/",
          "height": 35
        },
        "outputId": "c92a0c1a-d991-4fbf-ca25-ea93f00b32d0"
      },
      "source": [
        "def file_read(fname):\n",
        "                      with open(fname,\"r\") as myfile:\n",
        "                                                      data=myfile.readlines()\n",
        "                                                      print(data)\n",
        "file_read(\"test.txt\")"
      ],
      "execution_count": 21,
      "outputs": [
        {
          "output_type": "stream",
          "text": [
            "['good morning']\n"
          ],
          "name": "stdout"
        }
      ]
    },
    {
      "cell_type": "code",
      "metadata": {
        "id": "DgNkrjH-rIiF",
        "colab_type": "code",
        "colab": {
          "base_uri": "https://localhost:8080/",
          "height": 35
        },
        "outputId": "ea915535-32ca-496b-cd37-c309e8f9e4c5"
      },
      "source": [
        "f=open(\"test.txt\",\"w\")\n",
        "def file(fname):\n",
        "                  import os\n",
        "                  statinfo=os.stat(fname)\n",
        "                  return statinfo.st_size\n",
        "print(\"file size is\",file(\"test.txt\"))"
      ],
      "execution_count": null,
      "outputs": [
        {
          "output_type": "stream",
          "text": [
            "file size is 12\n"
          ],
          "name": "stdout"
        }
      ]
    },
    {
      "cell_type": "code",
      "metadata": {
        "id": "fj1t7CQ2dxfL",
        "colab_type": "code",
        "colab": {
          "base_uri": "https://localhost:8080/",
          "height": 35
        },
        "outputId": "c77eed98-dd99-40a1-fd54-421447c635be"
      },
      "source": [
        "def file_read(fname):\n",
        "       with open(fname) as f:\n",
        "           content_list=f.readlines()\n",
        "           print(content_list)\n",
        "file_read('test.txt')"
      ],
      "execution_count": 24,
      "outputs": [
        {
          "output_type": "stream",
          "text": [
            "['python exercise']\n"
          ],
          "name": "stdout"
        }
      ]
    },
    {
      "cell_type": "code",
      "metadata": {
        "id": "l35DU98hnoHH",
        "colab_type": "code",
        "colab": {
          "base_uri": "https://localhost:8080/",
          "height": 72
        },
        "outputId": "76325411-a36c-4451-bd52-0a6de159739f"
      },
      "source": [
        "a_file=open(\"test.txt\")\n",
        "number_of_lines=3\n",
        "for i in range(number_of_lines):\n",
        "             line=a_file.readline()\n",
        "             print(line)"
      ],
      "execution_count": 26,
      "outputs": [
        {
          "output_type": "stream",
          "text": [
            "python exercise\n",
            "\n",
            "\n"
          ],
          "name": "stdout"
        }
      ]
    },
    {
      "cell_type": "code",
      "metadata": {
        "id": "rKTQUl4Gof3c",
        "colab_type": "code",
        "colab": {}
      },
      "source": [
        "with open(\"test.txt\") as f:\n",
        "  with open(\"out.txt\",\"w\") as f1:\n",
        "    for line in f:\n",
        "      f1.write(line)"
      ],
      "execution_count": 27,
      "outputs": []
    }
  ]
}